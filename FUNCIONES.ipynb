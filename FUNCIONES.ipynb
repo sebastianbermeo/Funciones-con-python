{
  "cells": [
    {
      "cell_type": "markdown",
      "metadata": {
        "id": "tYTPcZdC4jJW"
      },
      "source": [
        "# FUNCIONES SIN PARAMETROS NI RETORNO\n",
        "para llamar a una funcion basta  con emplear su nombre \n",
        "\n",
        "nombre_funcion()"
      ]
    },
    {
      "cell_type": "code",
      "execution_count": 25,
      "metadata": {
        "colab": {
          "base_uri": "https://localhost:8080/"
        },
        "id": "pfRjse3A4x_w",
        "outputId": "5a22db35-27fa-4402-c07a-fd87a0b65686"
      },
      "outputs": [
        {
          "name": "stdout",
          "output_type": "stream",
          "text": [
            "5\n"
          ]
        }
      ],
      "source": [
        "def suma2_3():\n",
        "  print(2+3)\n",
        "\n",
        "suma2_3()"
      ]
    },
    {
      "cell_type": "code",
      "execution_count": 26,
      "metadata": {},
      "outputs": [
        {
          "name": "stdout",
          "output_type": "stream",
          "text": [
            "90\n"
          ]
        }
      ],
      "source": [
        "def multiplicacion():\n",
        "    x=9*10\n",
        "    print(x)\n",
        "multiplicacion()"
      ]
    },
    {
      "cell_type": "markdown",
      "metadata": {
        "id": "mzRYKvoG5A59"
      },
      "source": [
        "# FUNCIONES CON PARAMETROS\n",
        "al llamar una funcion que tiene parametros en su definicion se le deben pasar los valores de dichos parametros:"
      ]
    },
    {
      "cell_type": "code",
      "execution_count": 27,
      "metadata": {
        "colab": {
          "base_uri": "https://localhost:8080/"
        },
        "id": "2wTsSwc-5epJ",
        "outputId": "a6c303b3-c757-4a67-ac5e-3f86222e843d"
      },
      "outputs": [
        {
          "name": "stdout",
          "output_type": "stream",
          "text": [
            "28\n"
          ]
        }
      ],
      "source": [
        "def multiplica_dos_numeros(a,b):\n",
        "  print(a*b)\n",
        "\n",
        "multiplica_dos_numeros(7,4)\n"
      ]
    },
    {
      "cell_type": "code",
      "execution_count": 28,
      "metadata": {},
      "outputs": [
        {
          "name": "stdout",
          "output_type": "stream",
          "text": [
            "206\n",
            "107\n"
          ]
        }
      ],
      "source": [
        "def suma(n1,n2,n3):\n",
        "    x=n1+n2+n3\n",
        "    print(x)\n",
        "    \n",
        "\n",
        "suma(75,42,89)\n",
        "suma(69,23,15)\n"
      ]
    },
    {
      "cell_type": "markdown",
      "metadata": {
        "id": "flDBgtrQ5tgE"
      },
      "source": [
        "# FUNCIONES CON PARAMETROS\n",
        "Ambito de los parametros\n",
        "al llamar a una funcion que tiene parametros en su definicion se le deben pasar los valores de dichos parametros"
      ]
    },
    {
      "cell_type": "code",
      "execution_count": 29,
      "metadata": {
        "colab": {
          "base_uri": "https://localhost:8080/",
          "height": 218
        },
        "id": "ywyOBp8N7Y7-",
        "outputId": "c04b5ea3-30b5-487d-b019-1f6b933ecdb8"
      },
      "outputs": [
        {
          "name": "stdout",
          "output_type": "stream",
          "text": [
            "2\n"
          ]
        }
      ],
      "source": [
        "def funcion(a):\n",
        "  z=7\n",
        "  a=4\n",
        "\n",
        "a=2\n",
        "funcion(a)\n",
        "print(a)"
      ]
    },
    {
      "cell_type": "code",
      "execution_count": 30,
      "metadata": {},
      "outputs": [
        {
          "name": "stdout",
          "output_type": "stream",
          "text": [
            "Hola, buen dia Sebastian espero te encuentres muy bien.\n",
            "\n",
            "Hola, buen dia Jorge espero te encuentres muy bien.\n",
            "\n"
          ]
        }
      ],
      "source": [
        "def saludos(nombre):\n",
        "    print(\"Hola, buen dia\", nombre, \"espero te encuentres muy bien.\" \"\\n\")\n",
        "saludos(\"Sebastian\")\n",
        "saludos(\"Jorge\")"
      ]
    },
    {
      "cell_type": "markdown",
      "metadata": {
        "id": "vYNKm4UW8oof"
      },
      "source": [
        "# FUNCIONES CON PARAMETROS\n",
        "paso por referencia \n",
        "\n",
        "cuando se llama a una funcion en python, los parametros se pasan por referencia. esto quiere decir que podemos modificar el elemento introducido"
      ]
    },
    {
      "cell_type": "code",
      "execution_count": 31,
      "metadata": {
        "colab": {
          "base_uri": "https://localhost:8080/"
        },
        "id": "vpE7H-9r8umq",
        "outputId": "961d10da-7e38-4d9b-f5fc-db64f8d96f0e"
      },
      "outputs": [
        {
          "name": "stdout",
          "output_type": "stream",
          "text": [
            "[0, 1, 2, 0, 4, 5]\n"
          ]
        }
      ],
      "source": [
        "def funcion(l):\n",
        "  l[3]=0\n",
        "\n",
        "l=[0,1,2,3,4,5]\n",
        "funcion(l)\n",
        "print(l)"
      ]
    },
    {
      "cell_type": "code",
      "execution_count": 37,
      "metadata": {},
      "outputs": [
        {
          "name": "stdout",
          "output_type": "stream",
          "text": [
            "Hola, Soy Sebastian y mi idioma favorito es Aleman\n"
          ]
        }
      ],
      "source": [
        "def idioma_fav(nombre,idioma):\n",
        "    print(f\"Hola, Soy {nombre} y mi idioma favorito es {idioma}\")\n",
        "\n",
        "    \n",
        "idioma_fav(\"Sebastian\",\"Aleman\")"
      ]
    },
    {
      "cell_type": "markdown",
      "metadata": {
        "id": "8j28j8_F_Bte"
      },
      "source": [
        "# RETORNO EN FUNCIONES \n",
        "la instruccion RETURN\n",
        "una funcion puede devolver un valor durante su ejecucion. para ello, se emplea la instruccion return seguida del valor a devolver  "
      ]
    },
    {
      "cell_type": "code",
      "execution_count": 78,
      "metadata": {
        "colab": {
          "base_uri": "https://localhost:8080/"
        },
        "id": "liKlC6kr_tMG",
        "outputId": "6e0eb05b-49ee-4444-88f3-bb32c89937af"
      },
      "outputs": [
        {
          "name": "stdout",
          "output_type": "stream",
          "text": [
            "[1, 3, 5, 7]\n",
            "105\n"
          ]
        }
      ],
      "source": [
        "def producto(l):\n",
        "  prod=1\n",
        "  for num in l:\n",
        "    prod=prod*num\n",
        "  return prod\n",
        "\n",
        "l=[1,3,5,7]\n",
        "p=producto(l)\n",
        "print(l)\n",
        "print(p)\n"
      ]
    },
    {
      "cell_type": "code",
      "execution_count": 68,
      "metadata": {},
      "outputs": [
        {
          "name": "stdout",
          "output_type": "stream",
          "text": [
            "2.0\n"
          ]
        }
      ],
      "source": [
        "def division(x1,x2):\n",
        "    resultado = x1/x2\n",
        "    return resultado\n",
        "print(division(10,5))"
      ]
    },
    {
      "cell_type": "markdown",
      "metadata": {
        "id": "OfQXY7oZIeyD"
      },
      "source": [
        "#RETORNO EN FUNCIONES \n",
        "salida de la funcion \n",
        "una cuestion importante es que, una vez devueltoun valor, la funcion se detiene"
      ]
    },
    {
      "cell_type": "code",
      "execution_count": 59,
      "metadata": {
        "colab": {
          "base_uri": "https://localhost:8080/"
        },
        "id": "WX2ZbXtbIvN3",
        "outputId": "9b53dc5d-a8f2-4975-9875-64fbdf76adbc"
      },
      "outputs": [
        {
          "name": "stdout",
          "output_type": "stream",
          "text": [
            "numero no positivo\n"
          ]
        }
      ],
      "source": [
        "def positivo_o_no(num):\n",
        "  if num>0:\n",
        "    return \"numero positivo\"\n",
        "  else:\n",
        "    return \"numero no positivo\"\n",
        "  print(\"adios\") #nunca se imprime porque la funcion ha termiado \n",
        "\n",
        "print(positivo_o_no(-3))"
      ]
    },
    {
      "cell_type": "code",
      "execution_count": 66,
      "metadata": {},
      "outputs": [
        {
          "name": "stdout",
          "output_type": "stream",
          "text": [
            "El numero es mayor a 5\n"
          ]
        }
      ],
      "source": [
        "def numero_mayor_menor_a_5(numero):\n",
        "    if numero>5:\n",
        "        return \"El numero es mayor a 5\"\n",
        "    else:\n",
        "        return \"El numero es menor que 5\"\n",
        "\n",
        "print(numero_mayor_menor_a_5(10))"
      ]
    },
    {
      "cell_type": "markdown",
      "metadata": {
        "id": "xxu-Qy6EJit-"
      },
      "source": [
        "#RETORNO EN FUNCIONES\n",
        "retorno de multiples valores \n",
        "una funcion puede devolver varios valores\n"
      ]
    },
    {
      "cell_type": "code",
      "execution_count": 16,
      "metadata": {
        "colab": {
          "base_uri": "https://localhost:8080/"
        },
        "id": "wKSefc9LJs_k",
        "outputId": "bd19cfb9-f3d8-4373-e3e1-a425762d9f5d"
      },
      "outputs": [
        {
          "name": "stdout",
          "output_type": "stream",
          "text": [
            "7 1\n"
          ]
        }
      ],
      "source": [
        "def maxymin(l):\n",
        "  return max(l),min(l)\n",
        "\n",
        "l=[1,3,5,7]\n",
        "M,m=maxymin(l)\n",
        "print(M,m)\n"
      ]
    },
    {
      "cell_type": "code",
      "execution_count": 22,
      "metadata": {},
      "outputs": [
        {
          "name": "stdout",
          "output_type": "stream",
          "text": [
            "Ballena Serpiente\n"
          ]
        }
      ],
      "source": [
        "def nombres_animales(a):\n",
        "    return min(a), max(a)\n",
        "\n",
        "a=[\"Ballena\",\"Serpiente\"]\n",
        "m,M=nombres_animales(a)\n",
        "print(m,M)"
      ]
    },
    {
      "cell_type": "markdown",
      "metadata": {
        "id": "5BsfGZ8HLP-C"
      },
      "source": [
        "#PARAMETROS POSICIONALES\n",
        "al llamar a la funcion, debe haber tantos valores como parametros acepte esta, y se asignan en la misma posicion "
      ]
    },
    {
      "cell_type": "code",
      "execution_count": 19,
      "metadata": {
        "colab": {
          "base_uri": "https://localhost:8080/"
        },
        "id": "EWnqDbf7OSXt",
        "outputId": "66101a42-eaaf-45a8-a290-aad5002a5510"
      },
      "outputs": [
        {
          "name": "stdout",
          "output_type": "stream",
          "text": [
            "3\n",
            "0\n"
          ]
        }
      ],
      "source": [
        "def resta(a,b):\n",
        "  return a-b\n",
        "\n",
        "r=resta(7,4)\n",
        "print(r)\n",
        "r1=resta(b=4,a=4)\n",
        "print(r1)\n"
      ]
    },
    {
      "cell_type": "code",
      "execution_count": 25,
      "metadata": {},
      "outputs": [
        {
          "name": "stdout",
          "output_type": "stream",
          "text": [
            "10.0\n",
            "16.666666666666668\n"
          ]
        }
      ],
      "source": [
        "def division(n1,n2):\n",
        "  return n1/n2\n",
        "\n",
        "d=division(20,2)\n",
        "print(d)\n",
        "d1=division(n1=50,n2=3)\n",
        "print(d1)"
      ]
    },
    {
      "cell_type": "markdown",
      "metadata": {
        "id": "ZIwK4MrQPFEQ"
      },
      "source": [
        "#PARAMETROS OPCIONALES\n",
        "las funciones pueden incluir parametros opcionales osea un parametro por default\n"
      ]
    },
    {
      "cell_type": "code",
      "execution_count": 2,
      "metadata": {
        "colab": {
          "base_uri": "https://localhost:8080/"
        },
        "id": "U0cD0cFxP0xl",
        "outputId": "decb862e-4a93-418e-c243-d78a6a4b8136"
      },
      "outputs": [
        {
          "name": "stdout",
          "output_type": "stream",
          "text": [
            "16\n",
            "64\n"
          ]
        }
      ],
      "source": [
        "def potencia(base, exp=2):\n",
        "  return base ** exp\n",
        "\n",
        "p=potencia(4)\n",
        "print(p)\n",
        "\n",
        "p1=potencia(4,3)\n",
        "print(p1)"
      ]
    },
    {
      "cell_type": "code",
      "execution_count": 17,
      "metadata": {},
      "outputs": [
        {
          "name": "stdout",
          "output_type": "stream",
          "text": [
            "Hola, voy a adivinar tu nombre, empieza por la letra J... Asi es, tu nombre es: Jorge\n"
          ]
        }
      ],
      "source": [
        "def adivinar(nombre, adivinar2=\"Asi es,\"):\n",
        "    print(\"Hola, voy a adivinar tu nombre, empieza por la letra J...\", adivinar2, \"tu nombre es:\", nombre)\n",
        "\n",
        "adivinar(\"Jorge\")"
      ]
    },
    {
      "cell_type": "code",
      "execution_count": 25,
      "metadata": {
        "colab": {
          "base_uri": "https://localhost:8080/"
        },
        "id": "P6YzLi8JQUTs",
        "outputId": "223d3ef1-8fe2-40d5-dfc7-ca7507d79ed1"
      },
      "outputs": [
        {
          "name": "stdout",
          "output_type": "stream",
          "text": [
            "18\n",
            "66\n"
          ]
        }
      ],
      "source": [
        "def potencia(base, exp=2, c): #el parametro por default debe ir de ultimo\n",
        "  return base ** exp + c\n",
        "\n",
        "p=potencia(4,2)\n",
        "print(p)\n",
        "\n",
        "p1=potencia(4,2,3)\n",
        "print(p1)"
      ]
    },
    {
      "cell_type": "code",
      "execution_count": null,
      "metadata": {},
      "outputs": [],
      "source": []
    },
    {
      "cell_type": "markdown",
      "metadata": {
        "id": "mktuJUGfQ-Br"
      },
      "source": [
        "# PARAMETROS VARIABLES EN NUMERO\n"
      ]
    },
    {
      "cell_type": "code",
      "execution_count": 26,
      "metadata": {
        "colab": {
          "base_uri": "https://localhost:8080/"
        },
        "id": "4ZUkoiXoRCue",
        "outputId": "bfff56e2-a44c-4329-a21e-ca2e93ff01e6"
      },
      "outputs": [
        {
          "data": {
            "text/plain": [
              "6"
            ]
          },
          "execution_count": 26,
          "metadata": {},
          "output_type": "execute_result"
        }
      ],
      "source": [
        "def suma_numeros(l):\n",
        "  return sum(l)\n",
        "\n",
        "suma_numeros([1,2,3])\n",
        "\n"
      ]
    },
    {
      "cell_type": "code",
      "execution_count": 37,
      "metadata": {},
      "outputs": [
        {
          "data": {
            "text/plain": [
              "36"
            ]
          },
          "execution_count": 37,
          "metadata": {},
          "output_type": "execute_result"
        }
      ],
      "source": [
        "def sumar_los_numeros(s):\n",
        "  return sum(s)\n",
        "\n",
        "sumar_los_numeros([10,6,20])"
      ]
    },
    {
      "cell_type": "code",
      "execution_count": 38,
      "metadata": {
        "colab": {
          "base_uri": "https://localhost:8080/"
        },
        "id": "YnozqyqeRjr6",
        "outputId": "d3d7d76e-77ff-4c04-8c89-d0629378b26e"
      },
      "outputs": [
        {
          "data": {
            "text/plain": [
              "9"
            ]
          },
          "execution_count": 38,
          "metadata": {},
          "output_type": "execute_result"
        }
      ],
      "source": [
        "def suma_numeros(*l): #el asterisco permite empaquetar todos los parametro en una lista\n",
        "  return sum(l)\n",
        "\n",
        "suma_numeros(2,3,4)\n"
      ]
    },
    {
      "cell_type": "code",
      "execution_count": 45,
      "metadata": {},
      "outputs": [
        {
          "data": {
            "text/plain": [
              "1177"
            ]
          },
          "execution_count": 45,
          "metadata": {},
          "output_type": "execute_result"
        }
      ],
      "source": [
        "def sumar_los_numeros(*s):\n",
        "  return sum(s)\n",
        "\n",
        "sumar_los_numeros(1000,77,100)"
      ]
    },
    {
      "cell_type": "code",
      "execution_count": 28,
      "metadata": {
        "colab": {
          "base_uri": "https://localhost:8080/"
        },
        "id": "cEFfFLpQSDuG",
        "outputId": "a937ffa0-e3e7-4776-8364-d96cde6f1e6c"
      },
      "outputs": [
        {
          "name": "stdout",
          "output_type": "stream",
          "text": [
            "{'a': 'hola', 'b': 'mundo'}\n"
          ]
        }
      ],
      "source": [
        "def params(**d): #doble asterisco permite empaquetar parametros en un diccionario\n",
        "  print(d)\n",
        "\n",
        "params(a=\"hola\",b=\"mundo\")"
      ]
    },
    {
      "cell_type": "code",
      "execution_count": 47,
      "metadata": {},
      "outputs": [
        {
          "name": "stdout",
          "output_type": "stream",
          "text": [
            "{'a': 'soy', 'b': 'Sebastian', 'c': ':)'}\n"
          ]
        }
      ],
      "source": [
        "def yo(**y): \n",
        "  print(y)\n",
        "\n",
        "yo(a=\"soy\",b=\"Sebastian\",c=\":)\")"
      ]
    },
    {
      "cell_type": "markdown",
      "metadata": {
        "id": "zRDG-KvLSecy"
      },
      "source": []
    },
    {
      "cell_type": "markdown",
      "metadata": {
        "id": "JkOgSvDeSee-"
      },
      "source": [
        "#DESEMPAQUETADO\n"
      ]
    },
    {
      "cell_type": "code",
      "execution_count": 32,
      "metadata": {
        "colab": {
          "base_uri": "https://localhost:8080/"
        },
        "id": "b3c2U0ewShe2",
        "outputId": "507c1495-7de7-4341-fb95-2804d340d723"
      },
      "outputs": [
        {
          "data": {
            "text/plain": [
              "12"
            ]
          },
          "execution_count": 32,
          "metadata": {},
          "output_type": "execute_result"
        }
      ],
      "source": [
        "def suma(a,b):\n",
        "  return a+b\n",
        "\n",
        "l=[5,7]\n",
        "suma(*l)"
      ]
    },
    {
      "cell_type": "code",
      "execution_count": 50,
      "metadata": {},
      "outputs": [
        {
          "data": {
            "text/plain": [
              "-2"
            ]
          },
          "execution_count": 50,
          "metadata": {},
          "output_type": "execute_result"
        }
      ],
      "source": [
        "def resta(x1,x2):\n",
        "  return x1-x2\n",
        "\n",
        "r=[5,7]\n",
        "resta(*r)"
      ]
    },
    {
      "cell_type": "code",
      "execution_count": 33,
      "metadata": {
        "colab": {
          "base_uri": "https://localhost:8080/"
        },
        "id": "JlUBiwu8TDiQ",
        "outputId": "693228fa-4f4d-449b-c7d6-cfa5a2d56c62"
      },
      "outputs": [
        {
          "data": {
            "text/plain": [
              "6"
            ]
          },
          "execution_count": 33,
          "metadata": {},
          "output_type": "execute_result"
        }
      ],
      "source": [
        "def suma(a,b):\n",
        "  return a+b\n",
        "\n",
        "l={\"b\":5,\"a\":1}\n",
        "suma(**l)"
      ]
    },
    {
      "cell_type": "code",
      "execution_count": 52,
      "metadata": {},
      "outputs": [
        {
          "data": {
            "text/plain": [
              "16"
            ]
          },
          "execution_count": 52,
          "metadata": {},
          "output_type": "execute_result"
        }
      ],
      "source": [
        "def multiplicacion(n1,n2):\n",
        "  return n1*n2\n",
        "\n",
        "l={\"n1\":4,\"n2\":4}\n",
        "multiplicacion(**l)"
      ]
    },
    {
      "cell_type": "code",
      "execution_count": null,
      "metadata": {},
      "outputs": [],
      "source": []
    },
    {
      "cell_type": "markdown",
      "metadata": {
        "id": "qGCK4Fh3UAks"
      },
      "source": [
        "# COMBINACION DE PARAMETROS"
      ]
    },
    {
      "cell_type": "code",
      "execution_count": null,
      "metadata": {
        "id": "A0PcUf0xUFUi"
      },
      "outputs": [],
      "source": [
        "def funcion(a,b, c=0, *l, d=1; **d):\n",
        "  #hacer algo"
      ]
    },
    {
      "cell_type": "markdown",
      "metadata": {
        "id": "2vz7iGs-USMg"
      },
      "source": [
        "# RECURSIVIDAD\n"
      ]
    },
    {
      "cell_type": "code",
      "execution_count": null,
      "metadata": {
        "id": "R-rytz4yUadu"
      },
      "outputs": [],
      "source": [
        "#JUAN SEBASTIAN SANTANILLA BERMEO :)"
      ]
    },
    {
      "cell_type": "markdown",
      "metadata": {
        "id": "VN3Oh1g3UbJ9"
      },
      "source": []
    }
  ],
  "metadata": {
    "colab": {
      "name": "FUNCIONES.ipynb",
      "provenance": []
    },
    "kernelspec": {
      "display_name": "Python 3",
      "name": "python3"
    },
    "language_info": {
      "codemirror_mode": {
        "name": "ipython",
        "version": 3
      },
      "file_extension": ".py",
      "mimetype": "text/x-python",
      "name": "python",
      "nbconvert_exporter": "python",
      "pygments_lexer": "ipython3",
      "version": "3.10.2"
    }
  },
  "nbformat": 4,
  "nbformat_minor": 0
}
